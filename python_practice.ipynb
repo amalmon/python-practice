{
  "cells": [
    {
      "cell_type": "markdown",
      "metadata": {
        "id": "view-in-github",
        "colab_type": "text"
      },
      "source": [
        "<a href=\"https://colab.research.google.com/github/amalmon/python-practice/blob/main/python_practice.ipynb\" target=\"_parent\"><img src=\"https://colab.research.google.com/assets/colab-badge.svg\" alt=\"Open In Colab\"/></a>"
      ]
    },
    {
      "cell_type": "code",
      "execution_count": null,
      "metadata": {
        "colab": {
          "base_uri": "https://localhost:8080/"
        },
        "id": "BKPlMTXXbvCd",
        "outputId": "0e70ce51-78c9-45d8-94e6-5e7109466829"
      },
      "outputs": [
        {
          "output_type": "stream",
          "name": "stdout",
          "text": [
            "8\n"
          ]
        }
      ],
      "source": [
        "sum = 10\n",
        "for number in [2, 4, 6]:\n",
        "    if number==6:\n",
        "        sum = sum + number\n",
        "    else:\n",
        "        sum = 2\n",
        "print(sum)"
      ]
    },
    {
      "cell_type": "code",
      "execution_count": null,
      "metadata": {
        "id": "4YTUz96ud5ka",
        "colab": {
          "base_uri": "https://localhost:8080/"
        },
        "outputId": "e5819f4a-1472-4119-c87f-056e8fa17274"
      },
      "outputs": [
        {
          "output_type": "stream",
          "name": "stdout",
          "text": [
            "0\n"
          ]
        }
      ],
      "source": [
        "x = 1\n",
        "for i in range(5):\n",
        "    x = x*i\n",
        "print(x)"
      ]
    },
    {
      "cell_type": "code",
      "execution_count": null,
      "metadata": {
        "colab": {
          "base_uri": "https://localhost:8080/"
        },
        "id": "Zx_E7JYzd71c",
        "outputId": "338dfd2e-4606-4022-9481-fe0f2d822afd"
      },
      "outputs": [
        {
          "name": "stdout",
          "output_type": "stream",
          "text": [
            "0\n"
          ]
        }
      ],
      "source": [
        "print(x)"
      ]
    },
    {
      "cell_type": "code",
      "execution_count": null,
      "metadata": {
        "colab": {
          "base_uri": "https://localhost:8080/"
        },
        "id": "WInmih-VfKBI",
        "outputId": "1fdb569a-04b4-453a-daf9-087f46bd5c6e"
      },
      "outputs": [
        {
          "output_type": "stream",
          "name": "stdout",
          "text": [
            "4\n"
          ]
        }
      ],
      "source": [
        "for j in [0,1,2,3,4]: \n",
        " a=j\n",
        "print(a)\n"
      ]
    },
    {
      "cell_type": "code",
      "execution_count": null,
      "metadata": {
        "colab": {
          "base_uri": "https://localhost:8080/"
        },
        "id": "AACB5vr9fMCp",
        "outputId": "f6b64717-8805-429b-8f6a-cf2c93912f05"
      },
      "outputs": [
        {
          "output_type": "stream",
          "name": "stdout",
          "text": [
            "0\n",
            "1\n",
            "2\n",
            "3\n",
            "4\n",
            "5\n"
          ]
        }
      ],
      "source": [
        "for k in [0,1,2,3,4,5]: \n",
        "  print(k)\n"
      ]
    },
    {
      "cell_type": "code",
      "source": [],
      "metadata": {
        "colab": {
          "base_uri": "https://localhost:8080/"
        },
        "id": "APgIkDuIRgrF",
        "outputId": "d7dd9879-cccd-48d4-c7c0-b9e87c9ac855"
      },
      "execution_count": null,
      "outputs": [
        {
          "output_type": "execute_result",
          "data": {
            "text/plain": [
              "range(0, 5, 2)"
            ]
          },
          "metadata": {},
          "execution_count": 17
        }
      ]
    },
    {
      "cell_type": "code",
      "execution_count": null,
      "metadata": {
        "colab": {
          "base_uri": "https://localhost:8080/"
        },
        "id": "HQWYS1vMfOdU",
        "outputId": "4e29503d-a048-46d9-c103-0e66c655ee55"
      },
      "outputs": [
        {
          "output_type": "stream",
          "name": "stdout",
          "text": [
            "0\n",
            "1\n",
            "2\n",
            "3\n",
            "4\n"
          ]
        }
      ],
      "source": [
        "for l in range(0,5,1): print(l)\n"
      ]
    },
    {
      "cell_type": "code",
      "execution_count": null,
      "metadata": {
        "colab": {
          "base_uri": "https://localhost:8080/"
        },
        "id": "JOZ-TypwfQRs",
        "outputId": "8cded924-5ab1-485c-d251-bf992dec5a18"
      },
      "outputs": [
        {
          "name": "stdout",
          "output_type": "stream",
          "text": [
            "0\n",
            "1\n",
            "2\n",
            "3\n",
            "4\n"
          ]
        }
      ],
      "source": [
        "for i in range(0,5): print(i)"
      ]
    },
    {
      "cell_type": "code",
      "source": [
        "a='andi'\n",
        "b='kindi'\n",
        "a+b"
      ],
      "metadata": {
        "colab": {
          "base_uri": "https://localhost:8080/",
          "height": 35
        },
        "id": "OW4jzRYzSPHG",
        "outputId": "0d57e3c8-dd18-4aaf-bc06-087d7dc2d228"
      },
      "execution_count": null,
      "outputs": [
        {
          "output_type": "execute_result",
          "data": {
            "text/plain": [
              "'andikindi'"
            ],
            "application/vnd.google.colaboratory.intrinsic+json": {
              "type": "string"
            }
          },
          "metadata": {},
          "execution_count": 33
        }
      ]
    },
    {
      "cell_type": "code",
      "source": [
        "import time;\n",
        "ltime=time.localtime()\n",
        "print(time.strftime(\"%a %b %d %H:%M:%S %z %Y\",ltime))"
      ],
      "metadata": {
        "colab": {
          "base_uri": "https://localhost:8080/"
        },
        "id": "DUSrVmm1YeyD",
        "outputId": "9df52056-944a-4823-9f82-1d4239883aca"
      },
      "execution_count": null,
      "outputs": [
        {
          "output_type": "stream",
          "name": "stdout",
          "text": [
            "Fri Jan 13 04:33:18 +0000 2023\n"
          ]
        }
      ]
    },
    {
      "cell_type": "code",
      "source": [
        "list=['p','r','o','b','l','e','m']\n",
        "list.extend([1,2,3,'ku','khu','cha'])\n",
        "list"
      ],
      "metadata": {
        "colab": {
          "base_uri": "https://localhost:8080/"
        },
        "id": "MVhAWu1XasRw",
        "outputId": "69cc5011-f529-414f-fcc6-9fb2aa364cbd"
      },
      "execution_count": null,
      "outputs": [
        {
          "output_type": "execute_result",
          "data": {
            "text/plain": [
              "['p', 'r', 'o', 'b', 'l', 'e', 'm', 1, 2, 3, 'ku', 'khu', 'cha']"
            ]
          },
          "metadata": {},
          "execution_count": 53
        }
      ]
    },
    {
      "cell_type": "code",
      "source": [
        "list"
      ],
      "metadata": {
        "colab": {
          "base_uri": "https://localhost:8080/"
        },
        "id": "6BynFvIkcgAQ",
        "outputId": "f0def6ee-10d3-406b-a89f-bbf4fdfdaf6b"
      },
      "execution_count": null,
      "outputs": [
        {
          "output_type": "execute_result",
          "data": {
            "text/plain": [
              "['p', 3, 'ku', 'khu', 'cha']"
            ]
          },
          "metadata": {},
          "execution_count": 52
        }
      ]
    },
    {
      "cell_type": "code",
      "source": [
        "del list[1:5]\n",
        "list"
      ],
      "metadata": {
        "colab": {
          "base_uri": "https://localhost:8080/"
        },
        "id": "0KhJPj9_cRBf",
        "outputId": "9d88033e-38b2-448d-c920-a33c1160367d"
      },
      "execution_count": null,
      "outputs": [
        {
          "output_type": "execute_result",
          "data": {
            "text/plain": [
              "['p', 'e', 'm', 1, 2, 3, 'ku', 'khu', 'cha']"
            ]
          },
          "metadata": {},
          "execution_count": 54
        }
      ]
    },
    {
      "cell_type": "code",
      "source": [
        "str(1462)[::-1]"
      ],
      "metadata": {
        "colab": {
          "base_uri": "https://localhost:8080/",
          "height": 35
        },
        "id": "Nk4a0Bz4lNZ7",
        "outputId": "76655b43-7420-473d-9da4-beeadc350c68"
      },
      "execution_count": null,
      "outputs": [
        {
          "output_type": "execute_result",
          "data": {
            "text/plain": [
              "'2641'"
            ],
            "application/vnd.google.colaboratory.intrinsic+json": {
              "type": "string"
            }
          },
          "metadata": {},
          "execution_count": 61
        }
      ]
    },
    {
      "cell_type": "code",
      "source": [],
      "metadata": {
        "id": "GaI3XGMSs3lf"
      },
      "execution_count": null,
      "outputs": []
    },
    {
      "cell_type": "code",
      "source": [
        "n=5\n",
        "for i in range(1,n+1):\n",
        " print(i)"
      ],
      "metadata": {
        "colab": {
          "base_uri": "https://localhost:8080/"
        },
        "id": "CNCfBr7Gs66Z",
        "outputId": "4423c8c1-6ba6-4c8f-f5a0-51d8436d28ba"
      },
      "execution_count": null,
      "outputs": [
        {
          "output_type": "stream",
          "name": "stdout",
          "text": [
            "1\n",
            "2\n",
            "3\n",
            "4\n",
            "5\n"
          ]
        }
      ]
    },
    {
      "cell_type": "code",
      "source": [
        "print(12,end=\"\")"
      ],
      "metadata": {
        "colab": {
          "base_uri": "https://localhost:8080/"
        },
        "id": "bMuGMMsOy3Qa",
        "outputId": "ecfe0458-ec1a-4b11-ff9a-40cc2f1a4759"
      },
      "execution_count": null,
      "outputs": [
        {
          "output_type": "stream",
          "name": "stdout",
          "text": [
            "12"
          ]
        }
      ]
    },
    {
      "cell_type": "code",
      "source": [
        "a=1 2 3 4 5 6 7 8 9 \n",
        "a.strip().split(' ')"
      ],
      "metadata": {
        "colab": {
          "base_uri": "https://localhost:8080/",
          "height": 131
        },
        "id": "CE6srNYN7-Zd",
        "outputId": "7bd5d867-383a-41ce-83c8-c47c60e59d6e"
      },
      "execution_count": null,
      "outputs": [
        {
          "output_type": "error",
          "ename": "SyntaxError",
          "evalue": "ignored",
          "traceback": [
            "\u001b[0;36m  File \u001b[0;32m\"<ipython-input-80-17d58c554e3b>\"\u001b[0;36m, line \u001b[0;32m1\u001b[0m\n\u001b[0;31m    a=1 2 3 4 5 6 7 8 9\u001b[0m\n\u001b[0m        ^\u001b[0m\n\u001b[0;31mSyntaxError\u001b[0m\u001b[0;31m:\u001b[0m invalid syntax\n"
          ]
        }
      ]
    },
    {
      "cell_type": "code",
      "source": [
        "import numpy\n",
        "arr=numpy.array(input().split(),int)\n",
        "arr.shape=(3,3)\n",
        "print (arr)"
      ],
      "metadata": {
        "colab": {
          "base_uri": "https://localhost:8080/",
          "height": 363
        },
        "id": "PetWgacW8UJI",
        "outputId": "f1cb1316-6a5b-46b0-d839-57fa8bddca85"
      },
      "execution_count": null,
      "outputs": [
        {
          "output_type": "error",
          "ename": "KeyboardInterrupt",
          "evalue": "ignored",
          "traceback": [
            "\u001b[0;31m---------------------------------------------------------------------------\u001b[0m",
            "\u001b[0;31mKeyboardInterrupt\u001b[0m                         Traceback (most recent call last)",
            "\u001b[0;32m<ipython-input-107-ec2230d78d2a>\u001b[0m in \u001b[0;36m<module>\u001b[0;34m\u001b[0m\n\u001b[1;32m      1\u001b[0m \u001b[0;32mimport\u001b[0m \u001b[0mnumpy\u001b[0m\u001b[0;34m\u001b[0m\u001b[0;34m\u001b[0m\u001b[0m\n\u001b[0;32m----> 2\u001b[0;31m \u001b[0marr\u001b[0m\u001b[0;34m=\u001b[0m\u001b[0mnumpy\u001b[0m\u001b[0;34m.\u001b[0m\u001b[0marray\u001b[0m\u001b[0;34m(\u001b[0m\u001b[0minput\u001b[0m\u001b[0;34m(\u001b[0m\u001b[0;34m)\u001b[0m\u001b[0;34m.\u001b[0m\u001b[0msplit\u001b[0m\u001b[0;34m(\u001b[0m\u001b[0;34m)\u001b[0m\u001b[0;34m,\u001b[0m\u001b[0mint\u001b[0m\u001b[0;34m)\u001b[0m\u001b[0;34m\u001b[0m\u001b[0;34m\u001b[0m\u001b[0m\n\u001b[0m\u001b[1;32m      3\u001b[0m \u001b[0marr\u001b[0m\u001b[0;34m.\u001b[0m\u001b[0mshape\u001b[0m\u001b[0;34m=\u001b[0m\u001b[0;34m(\u001b[0m\u001b[0;36m3\u001b[0m\u001b[0;34m,\u001b[0m\u001b[0;36m3\u001b[0m\u001b[0;34m)\u001b[0m\u001b[0;34m\u001b[0m\u001b[0;34m\u001b[0m\u001b[0m\n\u001b[1;32m      4\u001b[0m \u001b[0mprint\u001b[0m \u001b[0;34m(\u001b[0m\u001b[0marr\u001b[0m\u001b[0;34m)\u001b[0m\u001b[0;34m\u001b[0m\u001b[0;34m\u001b[0m\u001b[0m\n",
            "\u001b[0;32m/usr/local/lib/python3.8/dist-packages/ipykernel/kernelbase.py\u001b[0m in \u001b[0;36mraw_input\u001b[0;34m(self, prompt)\u001b[0m\n\u001b[1;32m    858\u001b[0m                 \u001b[0;34m\"raw_input was called, but this frontend does not support input requests.\"\u001b[0m\u001b[0;34m\u001b[0m\u001b[0;34m\u001b[0m\u001b[0m\n\u001b[1;32m    859\u001b[0m             )\n\u001b[0;32m--> 860\u001b[0;31m         return self._input_request(str(prompt),\n\u001b[0m\u001b[1;32m    861\u001b[0m             \u001b[0mself\u001b[0m\u001b[0;34m.\u001b[0m\u001b[0m_parent_ident\u001b[0m\u001b[0;34m,\u001b[0m\u001b[0;34m\u001b[0m\u001b[0;34m\u001b[0m\u001b[0m\n\u001b[1;32m    862\u001b[0m             \u001b[0mself\u001b[0m\u001b[0;34m.\u001b[0m\u001b[0m_parent_header\u001b[0m\u001b[0;34m,\u001b[0m\u001b[0;34m\u001b[0m\u001b[0;34m\u001b[0m\u001b[0m\n",
            "\u001b[0;32m/usr/local/lib/python3.8/dist-packages/ipykernel/kernelbase.py\u001b[0m in \u001b[0;36m_input_request\u001b[0;34m(self, prompt, ident, parent, password)\u001b[0m\n\u001b[1;32m    902\u001b[0m             \u001b[0;32mexcept\u001b[0m \u001b[0mKeyboardInterrupt\u001b[0m\u001b[0;34m:\u001b[0m\u001b[0;34m\u001b[0m\u001b[0;34m\u001b[0m\u001b[0m\n\u001b[1;32m    903\u001b[0m                 \u001b[0;31m# re-raise KeyboardInterrupt, to truncate traceback\u001b[0m\u001b[0;34m\u001b[0m\u001b[0;34m\u001b[0m\u001b[0;34m\u001b[0m\u001b[0m\n\u001b[0;32m--> 904\u001b[0;31m                 \u001b[0;32mraise\u001b[0m \u001b[0mKeyboardInterrupt\u001b[0m\u001b[0;34m(\u001b[0m\u001b[0;34m\"Interrupted by user\"\u001b[0m\u001b[0;34m)\u001b[0m \u001b[0;32mfrom\u001b[0m \u001b[0;32mNone\u001b[0m\u001b[0;34m\u001b[0m\u001b[0;34m\u001b[0m\u001b[0m\n\u001b[0m\u001b[1;32m    905\u001b[0m             \u001b[0;32mexcept\u001b[0m \u001b[0mException\u001b[0m \u001b[0;32mas\u001b[0m \u001b[0me\u001b[0m\u001b[0;34m:\u001b[0m\u001b[0;34m\u001b[0m\u001b[0;34m\u001b[0m\u001b[0m\n\u001b[1;32m    906\u001b[0m                 \u001b[0mself\u001b[0m\u001b[0;34m.\u001b[0m\u001b[0mlog\u001b[0m\u001b[0;34m.\u001b[0m\u001b[0mwarning\u001b[0m\u001b[0;34m(\u001b[0m\u001b[0;34m\"Invalid Message:\"\u001b[0m\u001b[0;34m,\u001b[0m \u001b[0mexc_info\u001b[0m\u001b[0;34m=\u001b[0m\u001b[0;32mTrue\u001b[0m\u001b[0;34m)\u001b[0m\u001b[0;34m\u001b[0m\u001b[0;34m\u001b[0m\u001b[0m\n",
            "\u001b[0;31mKeyboardInterrupt\u001b[0m: Interrupted by user"
          ]
        }
      ]
    },
    {
      "cell_type": "code",
      "source": [
        "arr=numpy.array('1 2 3 4'.split(),int)"
      ],
      "metadata": {
        "id": "9y6m2OQs-UWF"
      },
      "execution_count": null,
      "outputs": []
    },
    {
      "cell_type": "code",
      "source": [
        "arr=numpy.array(input().split(),int)"
      ],
      "metadata": {
        "colab": {
          "base_uri": "https://localhost:8080/"
        },
        "id": "I5KNUVUN9kp6",
        "outputId": "bee24ba0-ab07-43d1-8a5e-b7252c3f4adb"
      },
      "execution_count": null,
      "outputs": [
        {
          "name": "stdout",
          "output_type": "stream",
          "text": [
            "1 2 3\n"
          ]
        }
      ]
    },
    {
      "cell_type": "code",
      "source": [
        "arr"
      ],
      "metadata": {
        "colab": {
          "base_uri": "https://localhost:8080/"
        },
        "id": "1IbsjI_B9q8E",
        "outputId": "64e83cb4-068e-450d-8083-06aa65517bb8"
      },
      "execution_count": null,
      "outputs": [
        {
          "output_type": "execute_result",
          "data": {
            "text/plain": [
              "array([1, 2, 3])"
            ]
          },
          "metadata": {},
          "execution_count": 106
        }
      ]
    },
    {
      "cell_type": "code",
      "source": [
        "1 2 3 4 5 6 7"
      ],
      "metadata": {
        "id": "Js7xcHQm9Y7Y"
      },
      "execution_count": null,
      "outputs": []
    },
    {
      "cell_type": "code",
      "source": [
        "arr=numpy.array"
      ],
      "metadata": {
        "id": "x7c_4JXP8GHd"
      },
      "execution_count": null,
      "outputs": []
    },
    {
      "cell_type": "code",
      "source": [
        "2 2\n",
        "1 2\n",
        "3 4"
      ],
      "metadata": {
        "id": "nz7BiICKQRN_"
      },
      "execution_count": null,
      "outputs": []
    },
    {
      "cell_type": "code",
      "source": [
        "import numpy\n",
        "my_array = numpy.array([[1,2,3],\n",
        "                        [4,5,6]])\n",
        "print(numpy.transpose(my_array))"
      ],
      "metadata": {
        "colab": {
          "base_uri": "https://localhost:8080/"
        },
        "id": "FZYcq6XGQbMV",
        "outputId": "0f4c45a8-7005-4421-ca76-703591b12f56"
      },
      "execution_count": null,
      "outputs": [
        {
          "output_type": "stream",
          "name": "stdout",
          "text": [
            "[[1 4]\n",
            " [2 5]\n",
            " [3 6]]\n"
          ]
        }
      ]
    },
    {
      "cell_type": "code",
      "source": [
        "arr=numpy.array(input().split(),int)\n",
        "print(arr)"
      ],
      "metadata": {
        "colab": {
          "base_uri": "https://localhost:8080/"
        },
        "id": "KPbwglpWRS9k",
        "outputId": "705c8df2-5a48-4ce6-8ab8-5709803e8ba5"
      },
      "execution_count": null,
      "outputs": [
        {
          "output_type": "stream",
          "name": "stdout",
          "text": [
            "11 22 23\n",
            "[11 22 23]\n"
          ]
        }
      ]
    },
    {
      "cell_type": "code",
      "source": [
        "N, M =map(int, input().split()).tolist()"
      ],
      "metadata": {
        "colab": {
          "base_uri": "https://localhost:8080/",
          "height": 183
        },
        "id": "XLNIyKzHS90q",
        "outputId": "2ed69c1f-fe8b-4b92-d541-fbeb70992fec"
      },
      "execution_count": null,
      "outputs": [
        {
          "name": "stdout",
          "output_type": "stream",
          "text": [
            "1 2 3 4 5 6 7\n"
          ]
        },
        {
          "output_type": "error",
          "ename": "AttributeError",
          "evalue": "ignored",
          "traceback": [
            "\u001b[0;31m---------------------------------------------------------------------------\u001b[0m",
            "\u001b[0;31mAttributeError\u001b[0m                            Traceback (most recent call last)",
            "\u001b[0;32m<ipython-input-116-5ee2b7fcdca7>\u001b[0m in \u001b[0;36m<module>\u001b[0;34m\u001b[0m\n\u001b[0;32m----> 1\u001b[0;31m \u001b[0mN\u001b[0m\u001b[0;34m,\u001b[0m \u001b[0mM\u001b[0m \u001b[0;34m=\u001b[0m\u001b[0mmap\u001b[0m\u001b[0;34m(\u001b[0m\u001b[0mint\u001b[0m\u001b[0;34m,\u001b[0m \u001b[0minput\u001b[0m\u001b[0;34m(\u001b[0m\u001b[0;34m)\u001b[0m\u001b[0;34m.\u001b[0m\u001b[0msplit\u001b[0m\u001b[0;34m(\u001b[0m\u001b[0;34m)\u001b[0m\u001b[0;34m)\u001b[0m\u001b[0;34m.\u001b[0m\u001b[0mtolist\u001b[0m\u001b[0;34m(\u001b[0m\u001b[0;34m)\u001b[0m\u001b[0;34m\u001b[0m\u001b[0;34m\u001b[0m\u001b[0m\n\u001b[0m",
            "\u001b[0;31mAttributeError\u001b[0m: 'map' object has no attribute 'tolist'"
          ]
        }
      ]
    },
    {
      "cell_type": "code",
      "source": [
        "import numpy\n",
        "arry=list()\n",
        "for _ in range(int(input().split()[0])):\n",
        "    arry.append(list(map(int,input().split())))\n",
        "print(numpy.array(arry).transpose(),numpy.array(arry).flatten(),sep=\"\\n\")"
      ],
      "metadata": {
        "colab": {
          "base_uri": "https://localhost:8080/",
          "height": 235
        },
        "id": "uaEACqB7n62g",
        "outputId": "4ffd327c-e25a-4f68-ffe5-d50badbf7d0d"
      },
      "execution_count": null,
      "outputs": [
        {
          "output_type": "error",
          "ename": "TypeError",
          "evalue": "ignored",
          "traceback": [
            "\u001b[0;31m---------------------------------------------------------------------------\u001b[0m",
            "\u001b[0;31mTypeError\u001b[0m                                 Traceback (most recent call last)",
            "\u001b[0;32m<ipython-input-118-5754c9594e1c>\u001b[0m in \u001b[0;36m<module>\u001b[0;34m\u001b[0m\n\u001b[1;32m      1\u001b[0m \u001b[0;32mimport\u001b[0m \u001b[0mnumpy\u001b[0m\u001b[0;34m\u001b[0m\u001b[0;34m\u001b[0m\u001b[0m\n\u001b[0;32m----> 2\u001b[0;31m \u001b[0marry\u001b[0m\u001b[0;34m=\u001b[0m\u001b[0mlist\u001b[0m\u001b[0;34m(\u001b[0m\u001b[0;34m)\u001b[0m\u001b[0;34m\u001b[0m\u001b[0;34m\u001b[0m\u001b[0m\n\u001b[0m\u001b[1;32m      3\u001b[0m \u001b[0;32mfor\u001b[0m \u001b[0m_\u001b[0m \u001b[0;32min\u001b[0m \u001b[0mrange\u001b[0m\u001b[0;34m(\u001b[0m\u001b[0mint\u001b[0m\u001b[0;34m(\u001b[0m\u001b[0minput\u001b[0m\u001b[0;34m(\u001b[0m\u001b[0;34m)\u001b[0m\u001b[0;34m.\u001b[0m\u001b[0msplit\u001b[0m\u001b[0;34m(\u001b[0m\u001b[0;34m)\u001b[0m\u001b[0;34m[\u001b[0m\u001b[0;36m0\u001b[0m\u001b[0;34m]\u001b[0m\u001b[0;34m)\u001b[0m\u001b[0;34m)\u001b[0m\u001b[0;34m:\u001b[0m\u001b[0;34m\u001b[0m\u001b[0;34m\u001b[0m\u001b[0m\n\u001b[1;32m      4\u001b[0m     \u001b[0marry\u001b[0m\u001b[0;34m.\u001b[0m\u001b[0mappend\u001b[0m\u001b[0;34m(\u001b[0m\u001b[0mlist\u001b[0m\u001b[0;34m(\u001b[0m\u001b[0mmap\u001b[0m\u001b[0;34m(\u001b[0m\u001b[0mint\u001b[0m\u001b[0;34m,\u001b[0m\u001b[0minput\u001b[0m\u001b[0;34m(\u001b[0m\u001b[0;34m)\u001b[0m\u001b[0;34m.\u001b[0m\u001b[0msplit\u001b[0m\u001b[0;34m(\u001b[0m\u001b[0;34m)\u001b[0m\u001b[0;34m)\u001b[0m\u001b[0;34m)\u001b[0m\u001b[0;34m)\u001b[0m\u001b[0;34m\u001b[0m\u001b[0;34m\u001b[0m\u001b[0m\n\u001b[1;32m      5\u001b[0m \u001b[0mprint\u001b[0m\u001b[0;34m(\u001b[0m\u001b[0mnumpy\u001b[0m\u001b[0;34m.\u001b[0m\u001b[0marray\u001b[0m\u001b[0;34m(\u001b[0m\u001b[0marry\u001b[0m\u001b[0;34m)\u001b[0m\u001b[0;34m.\u001b[0m\u001b[0mtranspose\u001b[0m\u001b[0;34m(\u001b[0m\u001b[0;34m)\u001b[0m\u001b[0;34m,\u001b[0m\u001b[0mnumpy\u001b[0m\u001b[0;34m.\u001b[0m\u001b[0marray\u001b[0m\u001b[0;34m(\u001b[0m\u001b[0marry\u001b[0m\u001b[0;34m)\u001b[0m\u001b[0;34m.\u001b[0m\u001b[0mflatten\u001b[0m\u001b[0;34m(\u001b[0m\u001b[0;34m)\u001b[0m\u001b[0;34m,\u001b[0m\u001b[0msep\u001b[0m\u001b[0;34m=\u001b[0m\u001b[0;34m\"\\n\"\u001b[0m\u001b[0;34m)\u001b[0m\u001b[0;34m\u001b[0m\u001b[0;34m\u001b[0m\u001b[0m\n",
            "\u001b[0;31mTypeError\u001b[0m: 'list' object is not callable"
          ]
        }
      ]
    },
    {
      "cell_type": "markdown",
      "source": [],
      "metadata": {
        "id": "qMRN0BFUa4Cr"
      }
    },
    {
      "cell_type": "code",
      "source": [
        "#1. User will input (3ages).Find the oldest one"
      ],
      "metadata": {
        "id": "8shDsunJa3vt"
      },
      "execution_count": null,
      "outputs": []
    },
    {
      "cell_type": "code",
      "source": [
        "\n",
        "\n",
        "a=int(input())\n",
        "b=int(input())\n",
        "c=int(input())\n",
        "\n",
        "list=[a,b,c]\n",
        "print(max(list))"
      ],
      "metadata": {
        "colab": {
          "base_uri": "https://localhost:8080/"
        },
        "id": "UXqZKGo1WYSv",
        "outputId": "c4be0977-fa0b-4709-9d90-7f8b11830edd"
      },
      "execution_count": null,
      "outputs": [
        {
          "output_type": "stream",
          "name": "stdout",
          "text": [
            "500\n",
            "600\n",
            "700\n",
            "700\n"
          ]
        }
      ]
    },
    {
      "cell_type": "code",
      "source": [
        "a=int(input())\n",
        "b=int(input())\n",
        "c=int(input())\n",
        "\n",
        "# we have a b c. frst compare a and b then compare the high number in a and b with c\n",
        "# compare a & b eliminate smaller no. then compare big with c\n",
        "\n",
        "max=a\n",
        "if max<b:\n",
        "  max=b\n",
        "if max<c:\n",
        "  max=c\n",
        "print(max)"
      ],
      "metadata": {
        "colab": {
          "base_uri": "https://localhost:8080/"
        },
        "id": "EeIhylGda0PE",
        "outputId": "4ec20d49-2bbe-484d-da52-66738993616a"
      },
      "execution_count": null,
      "outputs": [
        {
          "output_type": "stream",
          "name": "stdout",
          "text": [
            "47\n",
            "25\n",
            "78\n",
            "78\n"
          ]
        }
      ]
    },
    {
      "cell_type": "markdown",
      "source": [
        "2.Write a program that will convert celsius value to fahrenheit"
      ],
      "metadata": {
        "id": "H4Kq6rqSeDCI"
      }
    },
    {
      "cell_type": "code",
      "source": [
        "\n",
        "x=float(input())\n",
        "print((x*(9/5))+32)"
      ],
      "metadata": {
        "colab": {
          "base_uri": "https://localhost:8080/"
        },
        "id": "t1yoOWmTcTFO",
        "outputId": "7137c15b-a979-4e5b-a874-05bd64347024"
      },
      "execution_count": null,
      "outputs": [
        {
          "output_type": "stream",
          "name": "stdout",
          "text": [
            "37.778\n",
            "100.0004\n"
          ]
        }
      ]
    },
    {
      "cell_type": "markdown",
      "source": [
        "3.User will input (2numbers).Write a program to swap the numbers"
      ],
      "metadata": {
        "id": "B9iTCd5XeJJF"
      }
    },
    {
      "cell_type": "code",
      "source": [
        "a=int(input('enter value of a '))\n",
        "b=int(input('enter value of b '))\n",
        "print('value of a',b)\n",
        "print('value of b',a)"
      ],
      "metadata": {
        "colab": {
          "base_uri": "https://localhost:8080/"
        },
        "id": "Dy9ZWbXBeI7i",
        "outputId": "9231b1bc-e3eb-4f52-b43e-f9ac09475c30"
      },
      "execution_count": null,
      "outputs": [
        {
          "output_type": "stream",
          "name": "stdout",
          "text": [
            "enter value of a 45\n",
            "enter value of b 87\n",
            "value of a 87\n",
            "value of b 45\n"
          ]
        }
      ]
    },
    {
      "cell_type": "code",
      "source": [
        "a=int(input('enter value of a '))\n",
        "b=int(input('enter value of b '))\n",
        "temp=a #value of a stored to variable \"temp\"\n",
        "a=b #then value of b assigned to a\n",
        "b=temp  #then stored value of temp (ie value of a) assigned to b\n",
        "print('value of a',a)\n",
        "print('value of b',b)"
      ],
      "metadata": {
        "colab": {
          "base_uri": "https://localhost:8080/"
        },
        "id": "b6wRlVZ1lUuU",
        "outputId": "8a4b07d7-4168-4e5a-f761-faa98ebd71aa"
      },
      "execution_count": null,
      "outputs": [
        {
          "output_type": "stream",
          "name": "stdout",
          "text": [
            "enter value of a 78\n",
            "enter value of b 54\n",
            "value of a 54\n",
            "value of b 78\n"
          ]
        }
      ]
    },
    {
      "cell_type": "markdown",
      "source": [
        "4. Write a program that will give you the sum of 3 digits"
      ],
      "metadata": {
        "id": "9PDqXvP2fwQa"
      }
    },
    {
      "cell_type": "code",
      "source": [
        "a=int(input())\n",
        "b=int(input())\n",
        "print(a+b)"
      ],
      "metadata": {
        "colab": {
          "base_uri": "https://localhost:8080/"
        },
        "id": "cjxu2R5Qf2zI",
        "outputId": "53b5b7cd-3707-43e2-9380-5acee500bfaa"
      },
      "execution_count": null,
      "outputs": [
        {
          "output_type": "stream",
          "name": "stdout",
          "text": [
            "111\n",
            "222\n",
            "333\n"
          ]
        }
      ]
    },
    {
      "cell_type": "code",
      "source": [
        "num=int(input())\n",
        "x=num%10 # 456%10=6\n",
        "num=num//10 # 456//10=45\n",
        "y=num%10 # 45%10=5\n",
        "num=num//10 # 45//10=4\n",
        "z=num%10  # 4%10=4 (4/10=.4 reminder 4)\n",
        "print(x+y+z)"
      ],
      "metadata": {
        "colab": {
          "base_uri": "https://localhost:8080/"
        },
        "id": "Fb7kwoSbqHK2",
        "outputId": "294b1481-d991-4c12-fbd4-71c53be49306"
      },
      "execution_count": null,
      "outputs": [
        {
          "output_type": "stream",
          "name": "stdout",
          "text": [
            "456\n",
            "15\n"
          ]
        }
      ]
    },
    {
      "cell_type": "markdown",
      "source": [
        "5. Write a program that will reverse a four digit number.Also it checks whether the reverse is true."
      ],
      "metadata": {
        "id": "TfaSWYe1f3cc"
      }
    },
    {
      "cell_type": "code",
      "source": [
        "num=int(input())\n",
        "r_num=0\n",
        "while num/10!=0: \n",
        "    r_num=r_num*10\n",
        "    r_num=r_num+num%10  \n",
        "    num=num//10\n",
        "print(r_num)\n"
      ],
      "metadata": {
        "colab": {
          "base_uri": "https://localhost:8080/"
        },
        "id": "G9NNtzg8f-9E",
        "outputId": "06169098-94cd-4dc2-c8e6-fc0ac4fac07a"
      },
      "execution_count": null,
      "outputs": [
        {
          "output_type": "stream",
          "name": "stdout",
          "text": [
            "4567\n",
            "7654\n"
          ]
        }
      ]
    },
    {
      "cell_type": "markdown",
      "source": [
        "6. Write a program that will tell whether the number entered by the user is odd or even."
      ],
      "metadata": {
        "id": "vFAmUZU8gFMz"
      }
    },
    {
      "cell_type": "code",
      "source": [
        "a=int(input())\n",
        "if a%2!=0:\n",
        "  print('odd')\n",
        "else:\n",
        "  print('even')"
      ],
      "metadata": {
        "colab": {
          "base_uri": "https://localhost:8080/"
        },
        "id": "vFUqblK5gB-7",
        "outputId": "02732106-9e21-4a83-8659-bd49ce773a27"
      },
      "execution_count": null,
      "outputs": [
        {
          "output_type": "stream",
          "name": "stdout",
          "text": [
            "49\n",
            "odd\n"
          ]
        }
      ]
    },
    {
      "cell_type": "markdown",
      "source": [
        "7. Write a program that will tell whether the given year is a leap year or not."
      ],
      "metadata": {
        "id": "GpoXqcFNgGkO"
      }
    },
    {
      "cell_type": "code",
      "source": [
        "y=int(input('year '))\n",
        "if y%4!=0:\n",
        "  print('not a leap yr')\n",
        "else:\n",
        "  print('leap yr')"
      ],
      "metadata": {
        "colab": {
          "base_uri": "https://localhost:8080/"
        },
        "id": "cfdF354RuTed",
        "outputId": "13acaa47-3cef-4eba-93dc-0474c50d998c"
      },
      "execution_count": null,
      "outputs": [
        {
          "output_type": "stream",
          "name": "stdout",
          "text": [
            "year 2024\n",
            "leap yr\n"
          ]
        }
      ]
    },
    {
      "cell_type": "markdown",
      "source": [
        "8. Write a program to find the euclidean distance between two coordinates.\n"
      ],
      "metadata": {
        "id": "7IVrd2isuX_M"
      }
    },
    {
      "cell_type": "code",
      "source": [
        "x1=int(input('x1'))\n",
        "y1=int(input('y1'))\n",
        "x2=int(input('x2'))\n",
        "y2=int(input('y2'))\n",
        "d=((x2-x1)**2+(y2-y1)**2)**.5\n",
        "print(d)"
      ],
      "metadata": {
        "colab": {
          "base_uri": "https://localhost:8080/"
        },
        "id": "Dp5qmOF-ubC2",
        "outputId": "bc84d02f-89c5-487c-d41d-025c973635b8"
      },
      "execution_count": null,
      "outputs": [
        {
          "output_type": "stream",
          "name": "stdout",
          "text": [
            "x11\n",
            "y11\n",
            "x25\n",
            "y24\n",
            "5.0\n"
          ]
        }
      ]
    },
    {
      "cell_type": "markdown",
      "source": [
        "9. Write a program that take a user inputr of three angles and will find out whether it can form a triangle or not."
      ],
      "metadata": {
        "id": "yfyfgfNtucDr"
      }
    },
    {
      "cell_type": "code",
      "source": [
        "angle_A=float(input())\n",
        "angle_B=float(input())\n",
        "angle_C=float(input())\n",
        "if angle_A+angle_B+angle_C==180 and angle_A!=0 and angle_B!=0 and angle_C!=0:\n",
        "  print('its a triangle')\n",
        "else:\n",
        "  print('not a triangle')"
      ],
      "metadata": {
        "id": "R2SvbQovubHR",
        "colab": {
          "base_uri": "https://localhost:8080/"
        },
        "outputId": "bf2f370a-3a2f-4fac-9a11-9fc81d3e6a33"
      },
      "execution_count": 7,
      "outputs": [
        {
          "output_type": "stream",
          "name": "stdout",
          "text": [
            "90\n",
            "90\n",
            "0\n",
            "not a triangle\n"
          ]
        }
      ]
    },
    {
      "cell_type": "markdown",
      "source": [
        "10. Write a program that will take user input of cost price and selling price and determines whether its a loss or a profit."
      ],
      "metadata": {
        "id": "fArruX31uitE"
      }
    },
    {
      "cell_type": "code",
      "source": [
        "a=int(input('cost price'))\n",
        "b=int(input('sell price'))\n",
        "if b-a>0:print ('porfit')\n",
        "elif b-a==0:print('neither loss nor profit')\n",
        "else:print('loss')"
      ],
      "metadata": {
        "id": "xR5qbCjqupoa",
        "colab": {
          "base_uri": "https://localhost:8080/"
        },
        "outputId": "5250a71d-919b-4551-e919-e0cbaa75873a"
      },
      "execution_count": 17,
      "outputs": [
        {
          "output_type": "stream",
          "name": "stdout",
          "text": [
            "cost price100\n",
            "sell price200\n",
            "porfit\n"
          ]
        }
      ]
    },
    {
      "cell_type": "code",
      "source": [
        "a=int(input('cost price'))\n",
        "b=int(input('sell price'))\n",
        "if b>a:\n",
        "  amt=b-a\n",
        "  print('prof=',amt)\n",
        "elif a>b:\n",
        "  amt=a-b\n",
        "  print('loss=',amt)\n",
        "else:print('neither loss nor profit')"
      ],
      "metadata": {
        "colab": {
          "base_uri": "https://localhost:8080/"
        },
        "id": "NFNqCN7ctbKp",
        "outputId": "a8c98e2b-6792-4feb-a410-cd6050cfa8eb"
      },
      "execution_count": 30,
      "outputs": [
        {
          "output_type": "stream",
          "name": "stdout",
          "text": [
            "cost price200\n",
            "sell price200\n",
            "neither loss nor profit\n"
          ]
        }
      ]
    },
    {
      "cell_type": "markdown",
      "source": [
        "11. Write a program to find the simple interest when the value of principle,rate of interest and time period is given."
      ],
      "metadata": {
        "id": "fP_rWEN5n3hM"
      }
    },
    {
      "cell_type": "code",
      "source": [
        "p=int(input('principle'))\n",
        "i=int(input('roi'))\n",
        "t=int(input('time period'))\n",
        "si=(p*i*t)/100\n",
        "a=p*(1+(i/100)*t)\n",
        "print('simple_intrest=',si)\n",
        "print('amount=',a)"
      ],
      "metadata": {
        "colab": {
          "base_uri": "https://localhost:8080/"
        },
        "id": "7oBmeOnLpyTt",
        "outputId": "16c77c00-6228-4e8d-8d31-3674ce23db5f"
      },
      "execution_count": 35,
      "outputs": [
        {
          "output_type": "stream",
          "name": "stdout",
          "text": [
            "principle100\n",
            "roi10\n",
            "time period2\n",
            "simple_intrest= 20.0\n",
            "amount= 120.0\n"
          ]
        }
      ]
    },
    {
      "cell_type": "markdown",
      "source": [
        "12. Write a program to find the volume of the cylinder. Also find the cost when ,when the cost of 1litre milk is 40Rs."
      ],
      "metadata": {
        "id": "G-d_paDtoGVL"
      }
    },
    {
      "cell_type": "code",
      "source": [],
      "metadata": {
        "id": "CBpjFD29pzjc"
      },
      "execution_count": null,
      "outputs": []
    },
    {
      "cell_type": "markdown",
      "source": [
        "13. Write  a program that will tell whether the given number is divisible by 3 & 6."
      ],
      "metadata": {
        "id": "FLTsmfyZoLCe"
      }
    },
    {
      "cell_type": "code",
      "source": [
        "a=int(input())\n",
        "if a%3==0 and a%6==0:\n",
        "  print('no. divisible by 3 & 6')\n",
        "else:print('not')"
      ],
      "metadata": {
        "colab": {
          "base_uri": "https://localhost:8080/"
        },
        "id": "1Q2KQHJtp0Pd",
        "outputId": "a91fe828-af00-4c71-eaf1-8824ee0a1c0a"
      },
      "execution_count": 8,
      "outputs": [
        {
          "output_type": "stream",
          "name": "stdout",
          "text": [
            "10\n",
            "not\n"
          ]
        }
      ]
    },
    {
      "cell_type": "markdown",
      "source": [
        "https://practice.geeksforgeeks.org/problems/angle-between-hour-and-minute-hand0545/1?page=2&category[]=Mathematical&category[]=Numbers&category[]=number-theory&sortBy=submissions"
      ],
      "metadata": {
        "id": "o9Qn8fG3oOAq"
      }
    },
    {
      "cell_type": "markdown",
      "source": [
        "function to get angle between minute hand and hr. hand"
      ],
      "metadata": {
        "id": "hIGE5_4KtOl_"
      }
    },
    {
      "cell_type": "code",
      "source": [
        "''' #get_angle(hr,mint.)\n",
        "    angle(A) made by hr hand = hr*30+mint.*.5\n",
        "    angle(B) made by mint. hand=mint.*6\n",
        "    output:\n",
        "    if A>B A-B degree\n",
        "    if B>A B-A degree'''"
      ],
      "metadata": {
        "id": "u3z-rUgup1La"
      },
      "execution_count": null,
      "outputs": []
    },
    {
      "cell_type": "code",
      "source": [
        "def get_angle(h,m):\n",
        "  \"function gives the angle between hour and minute hands\"\n",
        "  x=range(1,13)\n",
        "  y=range(0,60)\n",
        "  if h not in x or m not in y:\n",
        "    print(\"error\")\n",
        "  else:\n",
        "    #angle made by hr hand from 12\n",
        "    angle_a=h*30+m*.5\n",
        "    #angle made by mint. hand from 12\n",
        "    angle_b=m*6\n",
        "    out_angle=angle_a-angle_b\n",
        "    if -180<=out_angle<=180:\n",
        "      print(abs(out_angle))\n",
        "    else:\n",
        "      print(360-abs(out_angle))"
      ],
      "metadata": {
        "id": "Huvdhmk4PM1O"
      },
      "execution_count": 35,
      "outputs": []
    },
    {
      "cell_type": "code",
      "source": [
        "get_angle(12,1)"
      ],
      "metadata": {
        "colab": {
          "base_uri": "https://localhost:8080/"
        },
        "id": "w3HNOfXWRfY3",
        "outputId": "af6c9d32-34f7-4600-d6e9-a1427b3fbdd0"
      },
      "execution_count": 37,
      "outputs": [
        {
          "output_type": "stream",
          "name": "stdout",
          "text": [
            "5.5\n"
          ]
        }
      ]
    },
    {
      "cell_type": "markdown",
      "source": [
        "https://practice.geeksforgeeks.org/problems/overlapping-rectangles1924/1?page=3&category[]=Mathematical&category[]=Numbers&category[]=number-theory&sortBy=submissions"
      ],
      "metadata": {
        "id": "jEkemg-roOjt"
      }
    },
    {
      "cell_type": "code",
      "source": [],
      "metadata": {
        "id": "MyS1BltNp1xQ"
      },
      "execution_count": null,
      "outputs": []
    },
    {
      "cell_type": "markdown",
      "source": [
        "16. Write a program that will determine weather when the value of temperature and humidity is provided by the user.\n",
        "\n",
        "TEMPERATURE(C). . . . . . . . . . . HUMIDITY(%). . . . . . . . .  WEATHER\n",
        "\n",
        "\n",
        "      >= 30                             >=90                Hot and Humid\n",
        "\n",
        "      >= 30                             < 90                 Hot\n",
        "\n",
        "      <30                                >= 90               Cool and Humid\n",
        "\n",
        "      <30                                 <90                 Cool"
      ],
      "metadata": {
        "id": "7NzXQBfpoWHi"
      }
    },
    {
      "cell_type": "code",
      "source": [],
      "metadata": {
        "id": "g_d_jkT5p2_N"
      },
      "execution_count": null,
      "outputs": []
    },
    {
      "cell_type": "markdown",
      "source": [
        "17. Write a program that will take three digits from the user and add the square of each digit."
      ],
      "metadata": {
        "id": "w-btAnAMoYhK"
      }
    },
    {
      "cell_type": "code",
      "source": [],
      "metadata": {
        "id": "_k8njyp1p3iY"
      },
      "execution_count": null,
      "outputs": []
    },
    {
      "cell_type": "markdown",
      "source": [
        "18. Write a program that will check whether the number is armstrong number or not."
      ],
      "metadata": {
        "id": "AyBqpNeHofJ-"
      }
    },
    {
      "cell_type": "code",
      "source": [],
      "metadata": {
        "id": "laDpFzCTp4Ev"
      },
      "execution_count": null,
      "outputs": []
    },
    {
      "cell_type": "markdown",
      "source": [
        "19. Write a program that will take user input of (4 digits number) and check whether the number is narcissist number or not."
      ],
      "metadata": {
        "id": "6VtWheEuogeX"
      }
    },
    {
      "cell_type": "code",
      "source": [],
      "metadata": {
        "id": "Gp6df367p4ki"
      },
      "execution_count": null,
      "outputs": []
    },
    {
      "cell_type": "markdown",
      "source": [
        "20. Write a program that will give you the in hand salary after deduction of HRA(10%),DA(5%),PF(3%), and tax(if salary is between 5-10 lakh–10%),(11-20lakh–20%),(20< _   – 30%)(0-1lakh print k)."
      ],
      "metadata": {
        "id": "-3IwXgSqongw"
      }
    },
    {
      "cell_type": "code",
      "source": [],
      "metadata": {
        "id": "-RZF4xVip5Nx"
      },
      "execution_count": null,
      "outputs": []
    }
  ],
  "metadata": {
    "colab": {
      "provenance": [],
      "authorship_tag": "ABX9TyMpGw6m1LWKe26gGg4R7HHm",
      "include_colab_link": true
    },
    "kernelspec": {
      "display_name": "Python 3",
      "name": "python3"
    },
    "language_info": {
      "name": "python"
    }
  },
  "nbformat": 4,
  "nbformat_minor": 0
}